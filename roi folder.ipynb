{
 "cells": [
  {
   "cell_type": "code",
   "execution_count": 2,
   "metadata": {},
   "outputs": [],
   "source": [
    "import cv2\n",
    "from matplotlib import pyplot as plt\n",
    "import os\n",
    "def roi_folder():\n",
    "\n",
    "    folder_path = r\"E:\\DEEP LEARNING SEGMENTATION\\Drishti-GS1_files\\Drishti-GS1_files\\Drishti-GS1_files\\Test\\Images\"\n",
    "\n",
    "    for filename in os.listdir(folder_path):\n",
    "        \n",
    "        if filename.endswith((\".jpg\", \".png\")):  \n",
    "            img_path = os.path.join(folder_path, filename)\n",
    "            str = filename.split('_')[1].split('.')[0]\n",
    "            file_path = f\"E:\\\\DEEP LEARNING SEGMENTATION\\\\Drishti-GS1_files\\\\Drishti-GS1_files\\\\Drishti-GS1_files\\\\Test\\\\Test_GT\\\\drishtiGS_{str}\\\\AvgBoundary\\\\drishtiGS_{str}_CupAvgBoundary.txt\"\n",
    "            file_path_cup=f\"E:\\DEEP LEARNING SEGMENTATION\\Drishti-GS1_files\\Drishti-GS1_files\\Drishti-GS1_files\\Test\\Test_GT\\drishtiGS_{str}\\SoftMap\\drishtiGS_{str}_cupsegSoftmap.png\"\n",
    "            file_path_disk=f\"E:\\DEEP LEARNING SEGMENTATION\\Drishti-GS1_files\\Drishti-GS1_files\\Drishti-GS1_files\\Test\\Test_GT\\drishtiGS_{str}\\SoftMap\\drishtiGS_{str}_ODsegSoftmap.png\"\n",
    "            with open(file_path, 'r') as file:\n",
    "                file_contents_array = file.readlines()\n",
    "\n",
    "            integer_2d_array = [list(map(int, line.strip().split())) for line in file_contents_array]\n",
    "\n",
    "            x = float('inf')\n",
    "            l = float('-inf')\n",
    "            y = float('inf')\n",
    "            b = float('-inf')\n",
    "            for i in integer_2d_array: \n",
    "                x=min(x,i[0])\n",
    "                l=max(l,i[0])\n",
    "                y=min(y,i[1])\n",
    "                b=max(b,i[1])\n",
    "            img = cv2.imread(img_path)\n",
    "            img_cup = cv2.imread(file_path_cup)\n",
    "            img_disk = cv2.imread(file_path_disk)\n",
    "            cropped_img = img[x:l ,y:b , :]\n",
    "            cropped_img_cup = img[x:l ,y:b , :]\n",
    "            cropped_img_disk = img[x:l ,y:b , :]\n",
    "            cv2.imwrite(f\"E:\\DEEP LEARNING SEGMENTATION\\DHRISHTI_CROPPED\\cropped\\drishtiGS_{str}.png\", cropped_img)\n",
    "            cv2.imwrite(f\"E:\\DEEP LEARNING SEGMENTATION\\DHRISHTI_CROPPED\\cup\\drishtiGS_{str}_cupsegSoftmap.png\", cropped_img_cup)\n",
    "            cv2.imwrite(f\"E:\\DEEP LEARNING SEGMENTATION\\DHRISHTI_CROPPED\\disk\\drishtiGS_{str}_ODsegSoftmap.png\", cropped_img_disk)\n",
    "            \n"
   ]
  }
 ],
 "metadata": {
  "kernelspec": {
   "display_name": "Python 3",
   "language": "python",
   "name": "python3"
  },
  "language_info": {
   "codemirror_mode": {
    "name": "ipython",
    "version": 3
   },
   "file_extension": ".py",
   "mimetype": "text/x-python",
   "name": "python",
   "nbconvert_exporter": "python",
   "pygments_lexer": "ipython3",
   "version": "3.11.8"
  }
 },
 "nbformat": 4,
 "nbformat_minor": 2
}
